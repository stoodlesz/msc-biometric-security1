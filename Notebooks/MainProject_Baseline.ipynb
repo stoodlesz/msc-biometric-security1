{
 "cells": [
  {
   "cell_type": "code",
   "execution_count": 3,
   "id": "426b8f03",
   "metadata": {},
   "outputs": [
    {
     "name": "stdout",
     "output_type": "stream",
     "text": [
      "Using device: cpu\n"
     ]
    },
    {
     "data": {
      "application/vnd.jupyter.widget-view+json": {
       "model_id": "f9bdad388f3d422796cf8985c4feb858",
       "version_major": 2,
       "version_minor": 0
      },
      "text/plain": [
       "  0%|          | 0.00/107M [00:00<?, ?B/s]"
      ]
     },
     "metadata": {},
     "output_type": "display_data"
    }
   ],
   "source": [
    "# MSc Project: Biometric Security - Baseline Model\n",
    "## Author: Stella Williams\n",
    "## Date: 04.10.2025\n",
    "\n",
    "# Step 1: Load Pretrained FaceNet Model\n",
    "\n",
    "import torch\n",
    "from facenet_pytorch import InceptionResnetV1\n",
    "from torchvision import datasets, transforms\n",
    "from torch.utils.data import DataLoader, Subset\n",
    "import matplotlib.pyplot as plt\n",
    "import numpy as np\n",
    "import random\n",
    "import os\n",
    "\n",
    "# Use GPU if available\n",
    "device = torch.device('cuda' if torch.cuda.is_available() else 'cpu')\n",
    "print(f\"Using device: {device}\")\n",
    "\n",
    "# Load pretrained FaceNet model\n",
    "model = InceptionResnetV1(pretrained='vggface2').eval().to(device)"
   ]
  },
  {
   "cell_type": "code",
   "execution_count": 4,
   "id": "be364d14",
   "metadata": {},
   "outputs": [
    {
     "name": "stdout",
     "output_type": "stream",
     "text": [
      "Selected classes: ['Chen_Tsai-chin', 'Lesley_Coppin', 'George_Ryan', 'Alan_Zemaitis', 'Robert_Mueller']\n"
     ]
    }
   ],
   "source": [
    "# Step 2: Load & Filter LFW Dataset (e.g. 5 identities)\n",
    "# Path to dataset\n",
    "lfw_path = '/Users/stel/Documents/Dissertation/msc-biometric-security/Datasets/lfw-dataset'\n",
    "\n",
    "# Define transforms\n",
    "transform = transforms.Compose([\n",
    "    transforms.Resize((160, 160)),\n",
    "    transforms.ToTensor(),\n",
    "])\n",
    "\n",
    "# Load full dataset\n",
    "lfw_full = datasets.ImageFolder(root=lfw_path, transform=transform)\n",
    "\n",
    "# Pick 5 identities only (simulate SME-scale)\n",
    "target_classes = random.sample(lfw_full.classes, 5)\n",
    "print(\"Selected classes:\", target_classes)\n",
    "\n",
    "# Filter indices\n",
    "target_indices = [i for i, (_, label) in enumerate(lfw_full) if lfw_full.classes[label] in target_classes]\n",
    "lfw_subset = Subset(lfw_full, target_indices)\n",
    "lfw_loader = DataLoader(lfw_subset, batch_size=1, shuffle=True)\n"
   ]
  },
  {
   "cell_type": "code",
   "execution_count": 5,
   "id": "f6c4074c",
   "metadata": {},
   "outputs": [
    {
     "name": "stdout",
     "output_type": "stream",
     "text": [
      "Cosine similarity between clean and adversarial: 1.0000\n"
     ]
    }
   ],
   "source": [
    "# Step 3: FGSM Attack\n",
    "\n",
    "import torch.nn as nn\n",
    "\n",
    "# Loss and epsilon\n",
    "criterion = nn.CosineEmbeddingLoss()\n",
    "epsilon = 0.05\n",
    "\n",
    "def fgsm_attack(image, gradient, eps):\n",
    "    # Sign of gradient\n",
    "    sign = gradient.sign()\n",
    "    return torch.clamp(image + eps * sign, 0, 1)\n",
    "\n",
    "# Get a sample\n",
    "image, label = next(iter(lfw_loader))\n",
    "image, label = image.to(device), label.to(device)\n",
    "\n",
    "# Enable gradient\n",
    "image.requires_grad = True\n",
    "\n",
    "# Get embedding of true image\n",
    "embedding_orig = model(image)\n",
    "\n",
    "# Create \"true\" target for cosine loss (match itself)\n",
    "target = torch.tensor([1.0]).to(device)\n",
    "\n",
    "# Compute loss\n",
    "loss = criterion(embedding_orig, embedding_orig.detach(), target)\n",
    "model.zero_grad()\n",
    "loss.backward()\n",
    "\n",
    "# FGSM\n",
    "perturbed_image = fgsm_attack(image, image.grad.data, epsilon)\n",
    "\n",
    "# Evaluate perturbed embedding\n",
    "embedding_adv = model(perturbed_image)\n",
    "\n",
    "# Cosine similarity\n",
    "cos = nn.CosineSimilarity(dim=1)\n",
    "sim = cos(embedding_orig, embedding_adv).item()\n",
    "print(f\"Cosine similarity between clean and adversarial: {sim:.4f}\")\n"
   ]
  },
  {
   "cell_type": "code",
   "execution_count": 6,
   "id": "d3ba67d3",
   "metadata": {},
   "outputs": [
    {
     "ename": "RuntimeError",
     "evalue": "Can't call numpy() on Tensor that requires grad. Use tensor.detach().numpy() instead.",
     "output_type": "error",
     "traceback": [
      "\u001b[0;31m---------------------------------------------------------------------------\u001b[0m",
      "\u001b[0;31mRuntimeError\u001b[0m                              Traceback (most recent call last)",
      "Cell \u001b[0;32mIn[6], line 19\u001b[0m\n\u001b[1;32m     16\u001b[0m     \u001b[38;5;28;01mreturn\u001b[39;00m recovered\u001b[38;5;241m.\u001b[39munsqueeze(\u001b[38;5;241m0\u001b[39m)\u001b[38;5;241m.\u001b[39mto(device)\n\u001b[1;32m     18\u001b[0m \u001b[38;5;66;03m# Apply defence\u001b[39;00m\n\u001b[0;32m---> 19\u001b[0m jpeg_image \u001b[38;5;241m=\u001b[39m \u001b[43mjpeg_defence\u001b[49m\u001b[43m(\u001b[49m\u001b[43mperturbed_image\u001b[49m\u001b[43m)\u001b[49m\n\u001b[1;32m     21\u001b[0m \u001b[38;5;66;03m# Evaluate similarity again\u001b[39;00m\n\u001b[1;32m     22\u001b[0m embedding_jpeg \u001b[38;5;241m=\u001b[39m model(jpeg_image)\n",
      "Cell \u001b[0;32mIn[6], line 7\u001b[0m, in \u001b[0;36mjpeg_defence\u001b[0;34m(img_tensor, quality)\u001b[0m\n\u001b[1;32m      6\u001b[0m \u001b[38;5;28;01mdef\u001b[39;00m \u001b[38;5;21mjpeg_defence\u001b[39m(img_tensor, quality\u001b[38;5;241m=\u001b[39m\u001b[38;5;241m50\u001b[39m):\n\u001b[0;32m----> 7\u001b[0m     img_np \u001b[38;5;241m=\u001b[39m \u001b[43mimg_tensor\u001b[49m\u001b[38;5;241;43m.\u001b[39;49m\u001b[43msqueeze\u001b[49m\u001b[43m(\u001b[49m\u001b[43m)\u001b[49m\u001b[38;5;241;43m.\u001b[39;49m\u001b[43mpermute\u001b[49m\u001b[43m(\u001b[49m\u001b[38;5;241;43m1\u001b[39;49m\u001b[43m,\u001b[49m\u001b[43m \u001b[49m\u001b[38;5;241;43m2\u001b[39;49m\u001b[43m,\u001b[49m\u001b[43m \u001b[49m\u001b[38;5;241;43m0\u001b[39;49m\u001b[43m)\u001b[49m\u001b[38;5;241;43m.\u001b[39;49m\u001b[43mcpu\u001b[49m\u001b[43m(\u001b[49m\u001b[43m)\u001b[49m\u001b[38;5;241;43m.\u001b[39;49m\u001b[43mnumpy\u001b[49m\u001b[43m(\u001b[49m\u001b[43m)\u001b[49m\n\u001b[1;32m      8\u001b[0m     img_np \u001b[38;5;241m=\u001b[39m (img_np \u001b[38;5;241m*\u001b[39m \u001b[38;5;241m255\u001b[39m)\u001b[38;5;241m.\u001b[39mastype(np\u001b[38;5;241m.\u001b[39muint8)\n\u001b[1;32m     10\u001b[0m     \u001b[38;5;66;03m# Save to JPEG in memory\u001b[39;00m\n",
      "\u001b[0;31mRuntimeError\u001b[0m: Can't call numpy() on Tensor that requires grad. Use tensor.detach().numpy() instead."
     ]
    }
   ],
   "source": [
    "# Step 4: Defence via JPEG Compression\n",
    "\n",
    "import cv2\n",
    "from PIL import Image\n",
    "\n",
    "def jpeg_defence(img_tensor, quality=50):\n",
    "    img_np = img_tensor.squeeze().permute(1, 2, 0).cpu().numpy()\n",
    "    img_np = (img_np * 255).astype(np.uint8)\n",
    "\n",
    "    # Save to JPEG in memory\n",
    "    _, encoded = cv2.imencode('.jpg', img_np, [int(cv2.IMWRITE_JPEG_QUALITY), quality])\n",
    "    decoded = cv2.imdecode(encoded, cv2.IMREAD_COLOR)\n",
    "\n",
    "    # Convert back to tensor\n",
    "    recovered = transforms.ToTensor()(Image.fromarray(cv2.cvtColor(decoded, cv2.COLOR_BGR2RGB)))\n",
    "    return recovered.unsqueeze(0).to(device)\n",
    "\n",
    "# Apply defence\n",
    "jpeg_image = jpeg_defence(perturbed_image)\n",
    "\n",
    "# Evaluate similarity again\n",
    "embedding_jpeg = model(jpeg_image)\n",
    "sim_defended = cos(embedding_orig, embedding_jpeg).item()\n",
    "print(f\"Cosine similarity (clean vs. JPEG-recovered): {sim_defended:.4f}\")\n"
   ]
  },
  {
   "cell_type": "code",
   "execution_count": 7,
   "id": "2e47aa5d",
   "metadata": {},
   "outputs": [
    {
     "ename": "NameError",
     "evalue": "name 'jpeg_image' is not defined",
     "output_type": "error",
     "traceback": [
      "\u001b[0;31m---------------------------------------------------------------------------\u001b[0m",
      "\u001b[0;31mNameError\u001b[0m                                 Traceback (most recent call last)",
      "Cell \u001b[0;32mIn[7], line 13\u001b[0m\n\u001b[1;32m      9\u001b[0m     plt\u001b[38;5;241m.\u001b[39mtight_layout()\n\u001b[1;32m     10\u001b[0m     plt\u001b[38;5;241m.\u001b[39mshow()\n\u001b[1;32m     12\u001b[0m show_images(\n\u001b[0;32m---> 13\u001b[0m     [image, perturbed_image, \u001b[43mjpeg_image\u001b[49m],\n\u001b[1;32m     14\u001b[0m     [\u001b[38;5;124m'\u001b[39m\u001b[38;5;124mOriginal\u001b[39m\u001b[38;5;124m'\u001b[39m, \u001b[38;5;124mf\u001b[39m\u001b[38;5;124m'\u001b[39m\u001b[38;5;124mAdversarial (ε=\u001b[39m\u001b[38;5;132;01m{\u001b[39;00mepsilon\u001b[38;5;132;01m}\u001b[39;00m\u001b[38;5;124m)\u001b[39m\u001b[38;5;124m'\u001b[39m, \u001b[38;5;124m'\u001b[39m\u001b[38;5;124mJPEG Defence\u001b[39m\u001b[38;5;124m'\u001b[39m]\n\u001b[1;32m     15\u001b[0m )\n",
      "\u001b[0;31mNameError\u001b[0m: name 'jpeg_image' is not defined"
     ]
    }
   ],
   "source": [
    "# Step 5: Visualise\n",
    "\n",
    "def show_images(images, titles):\n",
    "    fig, axes = plt.subplots(1, len(images), figsize=(12, 4))\n",
    "    for ax, img, title in zip(axes, images, titles):\n",
    "        ax.imshow(img.squeeze().permute(1, 2, 0).cpu())\n",
    "        ax.set_title(title)\n",
    "        ax.axis('off')\n",
    "    plt.tight_layout()\n",
    "    plt.show()\n",
    "\n",
    "show_images(\n",
    "    [image, perturbed_image, jpeg_image],\n",
    "    ['Original', f'Adversarial (ε={epsilon})', 'JPEG Defence']\n",
    ")\n"
   ]
  },
  {
   "cell_type": "code",
   "execution_count": null,
   "id": "50986d98",
   "metadata": {},
   "outputs": [],
   "source": []
  },
  {
   "cell_type": "code",
   "execution_count": null,
   "id": "8119efed",
   "metadata": {},
   "outputs": [],
   "source": []
  },
  {
   "cell_type": "code",
   "execution_count": null,
   "id": "196549e0",
   "metadata": {},
   "outputs": [],
   "source": []
  }
 ],
 "metadata": {
  "kernelspec": {
   "display_name": "Python 3 (ipykernel)",
   "language": "python",
   "name": "python3"
  },
  "language_info": {
   "codemirror_mode": {
    "name": "ipython",
    "version": 3
   },
   "file_extension": ".py",
   "mimetype": "text/x-python",
   "name": "python",
   "nbconvert_exporter": "python",
   "pygments_lexer": "ipython3",
   "version": "3.10.13"
  }
 },
 "nbformat": 4,
 "nbformat_minor": 5
}
