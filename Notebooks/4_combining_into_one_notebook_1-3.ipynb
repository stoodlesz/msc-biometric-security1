{
 "cells": [
  {
   "cell_type": "code",
   "execution_count": 12,
   "id": "8004a900",
   "metadata": {},
   "outputs": [
    {
     "name": "stdout",
     "output_type": "stream",
     "text": [
      "Using device: cpu\n"
     ]
    }
   ],
   "source": [
    "#Setup + Data Loading\n",
    "\n",
    "import os\n",
    "import torch\n",
    "import torch.nn as nn\n",
    "import torch.optim as optim\n",
    "from torchvision import datasets, transforms, models\n",
    "from torch.utils.data import DataLoader\n",
    "import numpy as np\n",
    "import matplotlib.pyplot as plt\n",
    "from PIL import Image\n",
    "import io\n",
    "\n",
    "\n",
    "# 1.2 Set seed and device\n",
    "torch.manual_seed(0)\n",
    "device = torch.device(\"cuda\" if torch.cuda.is_available() else \"cpu\")\n",
    "print(f\"Using device: {device}\")\n",
    "\n",
    "# 1.3 Dataset path\n",
    "lfw_path = \"../Datasets/lfw-dataset\"\n",
    "\n",
    "# 1.4 Transforms\n",
    "transform = transforms.Compose([\n",
    "    transforms.Resize((224, 224)),  # For ResNet input\n",
    "    transforms.ToTensor(),\n",
    "])\n",
    "\n",
    "# 1.5 Load dataset\n",
    "lfw_dataset = datasets.ImageFolder(root=lfw_path, transform=transform)\n",
    "lfw_loader = DataLoader(lfw_dataset, batch_size=16, shuffle=True)\n"
   ]
  },
  {
   "cell_type": "code",
   "execution_count": 13,
   "id": "54a41f18",
   "metadata": {},
   "outputs": [
    {
     "name": "stdout",
     "output_type": "stream",
     "text": [
      "Batch 1/30 - Loss: 9.0540\n",
      "Batch 2/30 - Loss: 8.7226\n",
      "Batch 3/30 - Loss: 8.8491\n",
      "Batch 4/30 - Loss: 9.0046\n",
      "Batch 5/30 - Loss: 8.3589\n",
      "Batch 6/30 - Loss: 9.2388\n",
      "Batch 7/30 - Loss: 9.0561\n",
      "Batch 8/30 - Loss: 8.8714\n",
      "Batch 9/30 - Loss: 8.5220\n",
      "Batch 10/30 - Loss: 8.9919\n",
      "Batch 11/30 - Loss: 9.5368\n",
      "Batch 12/30 - Loss: 10.0698\n",
      "Batch 13/30 - Loss: 9.0608\n",
      "Batch 14/30 - Loss: 8.7379\n",
      "Batch 15/30 - Loss: 9.3890\n",
      "Batch 16/30 - Loss: 8.7246\n",
      "Batch 17/30 - Loss: 9.0874\n",
      "Batch 18/30 - Loss: 8.9169\n",
      "Batch 19/30 - Loss: 9.2737\n",
      "Batch 20/30 - Loss: 9.5900\n",
      "Batch 21/30 - Loss: 9.2163\n",
      "Batch 22/30 - Loss: 8.7496\n",
      "Batch 23/30 - Loss: 8.4844\n",
      "Batch 24/30 - Loss: 9.3101\n",
      "Batch 25/30 - Loss: 9.3439\n",
      "Batch 26/30 - Loss: 9.2269\n",
      "Batch 27/30 - Loss: 10.1566\n",
      "Batch 28/30 - Loss: 9.1716\n",
      "Batch 29/30 - Loss: 8.8061\n",
      "Batch 30/30 - Loss: 9.5924\n"
     ]
    }
   ],
   "source": [
    "#Define + Train ResNet (small batch for demo)\n",
    "\n",
    "model = models.resnet18(weights=\"IMAGENET1K_V1\")\n",
    "model.fc = nn.Linear(model.fc.in_features, len(lfw_dataset.classes))\n",
    "model = model.to(device)\n",
    "\n",
    "criterion = nn.CrossEntropyLoss()\n",
    "optimizer = optim.Adam(model.parameters(), lr=0.001)\n",
    "\n",
    "model.train()\n",
    "for batch_idx, (images, labels) in enumerate(lfw_loader):\n",
    "    if batch_idx >= 30: break\n",
    "    images, labels = images.to(device), labels.to(device)\n",
    "    optimizer.zero_grad()\n",
    "    outputs = model(images)\n",
    "    loss = criterion(outputs, labels)\n",
    "    loss.backward()\n",
    "    optimizer.step()\n",
    "    print(f\"Batch {batch_idx+1}/30 - Loss: {loss.item():.4f}\")"
   ]
  },
  {
   "cell_type": "code",
   "execution_count": 14,
   "id": "99635d27",
   "metadata": {},
   "outputs": [
    {
     "name": "stdout",
     "output_type": "stream",
     "text": [
      "✅ Found correct prediction: George_W_Bush\n",
      "❌ Could not find a correctly classified image.\n"
     ]
    }
   ],
   "source": [
    "#FGSM Attack (loop until model gets one right)\n",
    "\n",
    "def fgsm_attack(image, epsilon, data_grad):\n",
    "    sign_data_grad = data_grad.sign()\n",
    "    perturbed = image + epsilon * sign_data_grad\n",
    "    return torch.clamp(perturbed, 0, 1)\n",
    "\n",
    "model.eval()\n",
    "image_found = False\n",
    "\n",
    "for _ in range(30):\n",
    "    image, label = next(iter(lfw_loader))\n",
    "    image = image[0].unsqueeze(0).to(device)\n",
    "    label = torch.tensor([label[0]]).to(device)\n",
    "    image.requires_grad = True\n",
    "\n",
    "    output = model(image)\n",
    "    init_pred = output.argmax(dim=1)\n",
    "\n",
    "    if init_pred.item() == label.item():\n",
    "        print(\"✅ Found correct prediction:\", lfw_dataset.classes[init_pred.item()])\n",
    "        loss = criterion(output, label)\n",
    "        model.zero_grad()\n",
    "        loss.backward()\n",
    "        data_grad = image.grad.data\n",
    "        epsilon = 0.1\n",
    "        perturbed_image = fgsm_attack(image, epsilon, data_grad)\n",
    "        clean_pred = init_pred.item()\n",
    "        break\n",
    "\n",
    "if not image_found:\n",
    "    print(\"❌ Could not find a correctly classified image.\")\n",
    "    "
   ]
  },
  {
   "cell_type": "code",
   "execution_count": 15,
   "id": "5223b0d6",
   "metadata": {},
   "outputs": [
    {
     "name": "stdout",
     "output_type": "stream",
     "text": [
      "🎯 Clean Prediction: George_W_Bush\n",
      "⚠️  Adversarial Prediction: George_W_Bush\n",
      "🔧 JPEG Defence Prediction: George_W_Bush\n"
     ]
    }
   ],
   "source": [
    "#JPEG Defence\n",
    "def jpeg_defence(image_tensor, quality=30):\n",
    "    pil_img = transforms.ToPILImage()(image_tensor.squeeze().cpu())\n",
    "    buffer = io.BytesIO()\n",
    "    pil_img.save(buffer, format='JPEG', quality=quality)\n",
    "    buffer.seek(0)\n",
    "    compressed_img = Image.open(buffer)\n",
    "    return transforms.ToTensor()(compressed_img).unsqueeze(0).to(device)\n",
    "\n",
    "jpeg_image = jpeg_defence(perturbed_image)\n",
    "\n",
    "model.eval()\n",
    "with torch.no_grad():\n",
    "    adv_out = model(perturbed_image)\n",
    "    jpeg_out = model(jpeg_image)\n",
    "\n",
    "adv_pred = adv_out.argmax(dim=1).item()\n",
    "jpeg_pred = jpeg_out.argmax(dim=1).item()\n",
    "\n",
    "print(f\"🎯 Clean Prediction: {lfw_dataset.classes[clean_pred]}\")\n",
    "print(f\"⚠️  Adversarial Prediction: {lfw_dataset.classes[adv_pred]}\")\n",
    "print(f\"🔧 JPEG Defence Prediction: {lfw_dataset.classes[jpeg_pred]}\")\n"
   ]
  }
 ],
 "metadata": {
  "kernelspec": {
   "display_name": "Python 3 (ipykernel)",
   "language": "python",
   "name": "python3"
  },
  "language_info": {
   "codemirror_mode": {
    "name": "ipython",
    "version": 3
   },
   "file_extension": ".py",
   "mimetype": "text/x-python",
   "name": "python",
   "nbconvert_exporter": "python",
   "pygments_lexer": "ipython3",
   "version": "3.10.13"
  }
 },
 "nbformat": 4,
 "nbformat_minor": 5
}
