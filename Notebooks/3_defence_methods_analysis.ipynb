{
 "cells": [
  {
   "cell_type": "code",
   "execution_count": 4,
   "id": "ca917ebc",
   "metadata": {},
   "outputs": [
    {
     "ename": "NameError",
     "evalue": "name 'perturbed_image' is not defined",
     "output_type": "error",
     "traceback": [
      "\u001b[0;31m---------------------------------------------------------------------------\u001b[0m",
      "\u001b[0;31mNameError\u001b[0m                                 Traceback (most recent call last)",
      "Cell \u001b[0;32mIn[4], line 20\u001b[0m\n\u001b[1;32m     17\u001b[0m     \u001b[38;5;28;01mreturn\u001b[39;00m to_tensor(compressed_image)\u001b[38;5;241m.\u001b[39munsqueeze(\u001b[38;5;241m0\u001b[39m)\u001b[38;5;241m.\u001b[39mto(device)\n\u001b[1;32m     19\u001b[0m \u001b[38;5;66;03m# 3. Apply JPEG Defence to Perturbed Image\u001b[39;00m\n\u001b[0;32m---> 20\u001b[0m jpeg_image \u001b[38;5;241m=\u001b[39m jpeg_defence(\u001b[43mperturbed_image\u001b[49m)\n\u001b[1;32m     22\u001b[0m \u001b[38;5;66;03m# 4. Evaluate performance\u001b[39;00m\n\u001b[1;32m     23\u001b[0m model\u001b[38;5;241m.\u001b[39meval()\n",
      "\u001b[0;31mNameError\u001b[0m: name 'perturbed_image' is not defined"
     ]
    }
   ],
   "source": [
    "# 1. Imports\n",
    "import torch\n",
    "import torchvision.transforms as transforms\n",
    "from PIL import Image\n",
    "import io\n",
    "\n",
    "# 2. Function: JPEG Compression Defence\n",
    "def jpeg_defence(image_tensor, quality=75):\n",
    "    to_pil = transforms.ToPILImage()\n",
    "    to_tensor = transforms.ToTensor()\n",
    "\n",
    "    image = to_pil(image_tensor.squeeze().cpu())\n",
    "    buffer = io.BytesIO()\n",
    "    image.save(buffer, format='JPEG', quality=quality)\n",
    "    buffer.seek(0)\n",
    "    compressed_image = Image.open(buffer)\n",
    "    return to_tensor(compressed_image).unsqueeze(0).to(device)\n",
    "\n",
    "# 3. Apply JPEG Defence to Perturbed Image\n",
    "jpeg_image = jpeg_defence(perturbed_image)\n",
    "\n",
    "# 4. Evaluate performance\n",
    "model.eval()\n",
    "with torch.no_grad():\n",
    "    output_jpeg = model(jpeg_image)\n",
    "    pred_jpeg = output_jpeg.argmax(dim=1)\n",
    "\n",
    "print(f\"JPEG Defence prediction: {lfw_dataset.classes[pred_jpeg.item()]}\")\n"
   ]
  },
  {
   "cell_type": "code",
   "execution_count": null,
   "id": "858638c2",
   "metadata": {},
   "outputs": [],
   "source": []
  }
 ],
 "metadata": {
  "kernelspec": {
   "display_name": "Python 3 (ipykernel)",
   "language": "python",
   "name": "python3"
  },
  "language_info": {
   "codemirror_mode": {
    "name": "ipython",
    "version": 3
   },
   "file_extension": ".py",
   "mimetype": "text/x-python",
   "name": "python",
   "nbconvert_exporter": "python",
   "pygments_lexer": "ipython3",
   "version": "3.10.13"
  }
 },
 "nbformat": 4,
 "nbformat_minor": 5
}
