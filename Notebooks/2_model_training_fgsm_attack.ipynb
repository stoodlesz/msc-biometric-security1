{
 "cells": [
  {
   "cell_type": "code",
   "execution_count": 2,
   "id": "d4f78082",
   "metadata": {},
   "outputs": [
    {
     "name": "stdout",
     "output_type": "stream",
     "text": [
      "Using device: cpu\n",
      "Number of classes: 5749\n",
      "Batch 1/20 - Loss: 8.8171\n",
      "Batch 2/20 - Loss: 8.9891\n",
      "Batch 3/20 - Loss: 9.1070\n",
      "Batch 4/20 - Loss: 8.8183\n",
      "Batch 5/20 - Loss: 8.7465\n",
      "Batch 6/20 - Loss: 8.9638\n",
      "Batch 7/20 - Loss: 8.7879\n",
      "Batch 8/20 - Loss: 8.6742\n",
      "Batch 9/20 - Loss: 8.4216\n",
      "Batch 10/20 - Loss: 9.1010\n",
      "Batch 11/20 - Loss: 8.5683\n",
      "Batch 12/20 - Loss: 9.9553\n",
      "Batch 13/20 - Loss: 10.1958\n",
      "Batch 14/20 - Loss: 9.7819\n",
      "Batch 15/20 - Loss: 9.2203\n",
      "Batch 16/20 - Loss: 9.9391\n",
      "Batch 17/20 - Loss: 10.0719\n",
      "Batch 18/20 - Loss: 8.5529\n",
      "Batch 19/20 - Loss: 8.9700\n",
      "Batch 20/20 - Loss: 9.9950\n"
     ]
    }
   ],
   "source": [
    "# 2.1 Imports\n",
    "import torch\n",
    "import torch.nn as nn\n",
    "import torch.optim as optim\n",
    "from torchvision import models\n",
    "from torch.utils.data import DataLoader\n",
    "from torchvision import transforms, datasets\n",
    "\n",
    "# 2.2 Setup\n",
    "device = torch.device(\"cuda\" if torch.cuda.is_available() else \"cpu\")\n",
    "print(f\"Using device: {device}\")\n",
    "\n",
    "lfw_path = \"../Datasets/lfw-dataset\"\n",
    "transform = transforms.Compose([\n",
    "    transforms.Resize((224, 224)),\n",
    "    transforms.ToTensor(),\n",
    "])\n",
    "\n",
    "# 2.3 Load dataset\n",
    "lfw_dataset = datasets.ImageFolder(root=lfw_path, transform=transform)\n",
    "lfw_loader = DataLoader(lfw_dataset, batch_size=16, shuffle=True)\n",
    "\n",
    "num_classes = len(lfw_dataset.classes)\n",
    "print(f\"Number of classes: {num_classes}\")\n",
    "\n",
    "# 2.4 Load pretrained ResNet18\n",
    "resnet = models.resnet18(weights=\"IMAGENET1K_V1\")\n",
    "resnet.fc = nn.Linear(resnet.fc.in_features, num_classes)\n",
    "resnet = resnet.to(device)\n",
    "\n",
    "# 2.5 Loss and optimiser\n",
    "criterion = nn.CrossEntropyLoss()\n",
    "optimizer = optim.Adam(resnet.parameters(), lr=0.001)\n",
    "\n",
    "# 2.6 Train for 1 epoch (limited batches for demo)\n",
    "resnet.train()\n",
    "for batch_idx, (images, labels) in enumerate(lfw_loader):\n",
    "    if batch_idx >= 20:\n",
    "        break\n",
    "    images, labels = images.to(device), labels.to(device)\n",
    "    optimizer.zero_grad()\n",
    "    outputs = resnet(images)\n",
    "    loss = criterion(outputs, labels)\n",
    "    loss.backward()\n",
    "    optimizer.step()\n",
    "    print(f\"Batch {batch_idx+1}/20 - Loss: {loss.item():.4f}\")\n",
    "\n",
    "# 2.7 Save model\n",
    "torch.save(resnet.state_dict(), \"../Models/resnet18_lfw.pth\")\n"
   ]
  },
  {
   "cell_type": "code",
   "execution_count": null,
   "id": "67c12bf7",
   "metadata": {},
   "outputs": [],
   "source": []
  }
 ],
 "metadata": {
  "kernelspec": {
   "display_name": "Python 3 (ipykernel)",
   "language": "python",
   "name": "python3"
  },
  "language_info": {
   "codemirror_mode": {
    "name": "ipython",
    "version": 3
   },
   "file_extension": ".py",
   "mimetype": "text/x-python",
   "name": "python",
   "nbconvert_exporter": "python",
   "pygments_lexer": "ipython3",
   "version": "3.10.13"
  }
 },
 "nbformat": 4,
 "nbformat_minor": 5
}
